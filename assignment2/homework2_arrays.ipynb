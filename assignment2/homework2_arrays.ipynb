{
 "cells": [
  {
   "cell_type": "markdown",
   "metadata": {},
   "source": [
    "<figure>\n",
    "  <IMG SRC=\"https://raw.githubusercontent.com/mbakker7/exploratory_computing_with_python/master/tudelft_logo.png\" WIDTH=250 ALIGN=\"right\">\n",
    "</figure>\n",
    "\n",
    "# Exploratory Computing with Python\n",
    "*Developed by Mark Bakker*\n",
    "    \n",
    "*Updated for Ohio University CS1400 by Shawn Ostermann 2021*"
   ]
  },
  {
   "cell_type": "markdown",
   "metadata": {},
   "source": [
    "## Notebook 2: Arrays\n",
    "\n",
    "In this notebook, we will do math on arrays using functions of the `numpy` package. A nice overview of `numpy` functionality can be found [here](https://docs.scipy.org/doc/numpy/user/quickstart.html). We will also make plots. We start by telling the Jupyter Notebooks to put all graphs inline. Then we import the `numpy` package and call it `np`, and we import the plotting part of the `matplotlib` package and call it `plt`.  We will add these three lines at the top of all upcoming notebooks as we will always be using `numpy` and `matplotlib`. "
   ]
  },
  {
   "cell_type": "code",
   "execution_count": null,
   "metadata": {},
   "outputs": [],
   "source": [
    "%matplotlib inline\n",
    "import numpy as np\n",
    "import matplotlib.pyplot as plt"
   ]
  },
  {
   "cell_type": "markdown",
   "metadata": {},
   "source": [
    "### One-dimesional arrays\n",
    "There are many ways to create arrays. For example, you can enter the individual elements of an array"
   ]
  },
  {
   "cell_type": "code",
   "execution_count": null,
   "metadata": {},
   "outputs": [],
   "source": [
    "np.array([1, 7, 2, 12])"
   ]
  },
  {
   "cell_type": "markdown",
   "metadata": {},
   "source": [
    "Note that the `array` function takes one sequence of points between square brackets. \n",
    "Another function to create an array is `np.ones(shape)`, which creates an array of the specified `shape` filled with the value 1. \n",
    "There is an analogous function `np.zeros(shape)` There is also the `np.arange(start, end, step)` \n",
    "function, which creates an array starting at `start`, taking steps equal to `step` and stopping *before* it reaches `end`. If you don't specify the `step`, \n",
    "it is set equal to 1. If you only specify one input value, it returns a sequence starting at 0 and incrementing by 1 until the specified value is reached (but again, it stops before it reaches that value)"
   ]
  },
  {
   "cell_type": "code",
   "execution_count": null,
   "metadata": {},
   "outputs": [],
   "source": [
    "print(np.arange(1, 7)) # Takes default steps of 1 and doesn't include 7\n",
    "print(np.arange(5)) # Starts at 0 end ends at 4, giving 5 numbers\n",
    "print(np.arange(2,7,3)) # Starts at 0 end ends at 4, giving 5 numbers"
   ]
  },
  {
   "cell_type": "markdown",
   "metadata": {},
   "source": [
    "Recall that comments in Python are preceded by a `#`. \n",
    "Arrays have a dimension. So far we have only used one-dimensional arrays. \n",
    "Hence the dimension is 1. \n",
    "For one-dimensional arrays, you can also compute the length (which is part of Python and not `numpy`), which returns the number of values in the array"
   ]
  },
  {
   "cell_type": "code",
   "execution_count": null,
   "metadata": {},
   "outputs": [],
   "source": [
    "x = np.array([1, 7, 2, 12])\n",
    "print('number of dimensions of x:', np.ndim(x))\n",
    "print('length of x:', len(x))"
   ]
  },
  {
   "cell_type": "markdown",
   "metadata": {},
   "source": [
    "The individual elements of an array can be accessed with their index. Indices start at 0. \n",
    "This may require a bit of getting used to. It means that the first value in the array has index 0. The index of an array is specified using square brackets."
   ]
  },
  {
   "cell_type": "code",
   "execution_count": null,
   "metadata": {},
   "outputs": [],
   "source": [
    "x = np.arange(20, 30)\n",
    "print('array x:', x)\n",
    "print('value with index 0:', x[0])\n",
    "print('value with index 5:', x[5])"
   ]
  },
  {
   "cell_type": "markdown",
   "metadata": {},
   "source": [
    "A range of indices may be specified using the colon syntax:\n",
    "`x[start:end_before]` or `x[start:end_before:step]`. If the `start` isn't specified, 0 will be used. If the step isn't specified, 1 will be used. "
   ]
  },
  {
   "cell_type": "code",
   "execution_count": null,
   "metadata": {},
   "outputs": [],
   "source": [
    "x = np.arange(20, 30)\n",
    "print(x)\n",
    "print(x[0:5])\n",
    "print(x[:5])  # same as previous one\n",
    "print(x[3:7])\n",
    "print(x[2:9:2])  # step is 2"
   ]
  },
  {
   "cell_type": "markdown",
   "metadata": {},
   "source": [
    "You can also start at the end and count back. Generally, the index of the end is not known. You can find out how long the array is and access the last value by typing `x[len(x) - 1]` but it would be inconvenient to have to type `len(arrayname)` all the time. Luckily, there is a shortcut: `x[-1]` is the same as `x[len(x) - 1]` and represents the last value in the array. For example:"
   ]
  },
  {
   "cell_type": "code",
   "execution_count": null,
   "metadata": {},
   "outputs": [],
   "source": [
    "xvalues = np.arange(0, 100, 10)\n",
    "print(xvalues)\n",
    "print(xvalues[len(xvalues) - 1])  # last value in array\n",
    "print(xvalues[-1])  # much shorter\n",
    "print(xvalues[-1::-1])  # start at the end and go back with steps of -1"
   ]
  },
  {
   "cell_type": "markdown",
   "metadata": {},
   "source": [
    "You can assign one value to a range of an array by specifying a range of indices, \n",
    "or you can assign an array to a range of another array, as long as the ranges have the same length. In the last example below, the first 5 values of `x` (specified as `x[0:5]`) are given the values `[40, 42, 44, 46, 48]`."
   ]
  },
  {
   "cell_type": "code",
   "execution_count": null,
   "metadata": {},
   "outputs": [],
   "source": [
    "x = 20 * np.ones(10)\n",
    "print(x)\n",
    "x[0:5] = 40\n",
    "print(x)\n",
    "x[0:5] = np.arange(40, 50, 2)\n",
    "print(x)"
   ]
  },
  {
   "cell_type": "markdown",
   "metadata": {},
   "source": [
    "### Exercise 1a, <a name=\"back1\"></a> Arrays and indices\n",
    "Create an array of zeros with length 20. Change the first 5 values to 10. Then print the list."
   ]
  },
  {
   "cell_type": "code",
   "execution_count": null,
   "metadata": {},
   "outputs": [],
   "source": []
  },
  {
   "cell_type": "markdown",
   "metadata": {},
   "source": [
    "### Exercise 1b, <a name=\"back1\"></a> Arrays and indices\n",
    "Then change the next 5 values to a sequence starting at 20 and ending at 24.  Then print the list."
   ]
  },
  {
   "cell_type": "code",
   "execution_count": null,
   "metadata": {},
   "outputs": [],
   "source": []
  },
  {
   "cell_type": "markdown",
   "metadata": {},
   "source": [
    "### Exercise 1c, <a name=\"back1\"></a> Arrays and indices\n",
    "Then change the next 5 values to a sequence starting at 30 and increasing with steps of 2 to 40 (do this with one command). Set the final 5 values to 99. The print the list."
   ]
  },
  {
   "cell_type": "code",
   "execution_count": null,
   "metadata": {},
   "outputs": [],
   "source": []
  },
  {
   "cell_type": "markdown",
   "metadata": {},
   "source": [
    "### Two-dimensional arrays\n",
    "Arrays may have arbitrary dimensions (as long as they fit in your computer's memory). We will make frequent use of two-dimensional arrays. They can be created with any of the aforementioned functions by specifying the number of rows and columns of the array. Note that the number of rows and columns must be a tuple (so they need to be between parentheses), as the functions expect only one input argument for the shape of the array, which may be either one number or a tuple of multiple numbers."
   ]
  },
  {
   "cell_type": "code",
   "execution_count": null,
   "metadata": {},
   "outputs": [],
   "source": [
    "x = np.ones((3, 4)) # An array with 3 rows and 4 columns\n",
    "print(x)"
   ]
  },
  {
   "cell_type": "markdown",
   "metadata": {},
   "source": [
    "Arrays may also be defined by specifying all the values in the array. The `array` function gets passed one list consisting of separate lists for each row of the array. In the example below, the rows are entered on different lines. That may make it easier to enter the array, but it is not required."
   ]
  },
  {
   "cell_type": "code",
   "execution_count": null,
   "metadata": {},
   "outputs": [],
   "source": [
    "x = np.array([[4, 2, 3, 2],\n",
    "              [2, 4, 3, 1],\n",
    "              [0, 4, 1, 3]])\n",
    "print(x)\n"
   ]
  },
  {
   "cell_type": "markdown",
   "metadata": {},
   "source": [
    "The index of a two-dimensional array is specified with two values, first the row index, then the column index."
   ]
  },
  {
   "cell_type": "code",
   "execution_count": null,
   "metadata": {},
   "outputs": [],
   "source": [
    "x = np.zeros((3, 8))\n",
    "x[0, 0] = 100\n",
    "x[1, 4:] = 200  # Row with index 1, columns starting with 4 to the end\n",
    "x[2, -1:4:-1] = 400  # Row with index 2, columns counting back from the end with steps of 1 and stop before reaching index 4\n",
    "print(x)"
   ]
  },
  {
   "cell_type": "code",
   "execution_count": null,
   "metadata": {},
   "outputs": [],
   "source": []
  },
  {
   "cell_type": "markdown",
   "metadata": {},
   "source": [
    "### Arrays are not matrices\n",
    "Now that we talk about the rows and columns of an array, the math-oriented reader may think that arrays are matrices, or that one-dimensional arrays are vectors. It is crucial to understand that *arrays are not vectors or matrices*. The multiplication and division of two arrays is term by term"
   ]
  },
  {
   "cell_type": "code",
   "execution_count": null,
   "metadata": {},
   "outputs": [],
   "source": [
    "a = np.arange(4, 20, 4)\n",
    "b = np.array([2, 2, 4, 4])\n",
    "print('array a:', a)\n",
    "print('array b:', b)\n",
    "print('a * b  :', a * b)  # term by term multiplication\n",
    "print('a / b  :', a / b)  # term by term division"
   ]
  },
  {
   "cell_type": "markdown",
   "metadata": {},
   "source": [
    "### Exercise 2a, <a name=\"back2\"></a> Two-dimensional array indices\n",
    "For the array `x` shown below, write code to create the array and then print it\n",
    "\n",
    "               [4, 2, 3, 2]\n",
    "               [2, 4, 3, 1]\n",
    "               [2, 4, 1, 3]\n",
    "               [4, 1, 2, 3]"
   ]
  },
  {
   "cell_type": "code",
   "execution_count": null,
   "metadata": {},
   "outputs": [],
   "source": []
  },
  {
   "cell_type": "markdown",
   "metadata": {},
   "source": [
    "### Exercise 2b, <a name=\"back2\"></a> Two-dimensional array indices\n",
    "Finish the code below to print the output:<br>\n",
    "'x[ 0 , 0 ] is  4 <br>\n",
    "x[ 0 , 1 ] is  2<br>\n",
    "x[ 0 , 2 ] is  3<br>\n",
    "x[ 0 , 3 ] is  2<br>\n",
    "x[ 1 , 0 ] is  2<br>\n",
    "x[ 1 , 1 ] is  4<br>\n",
    "x[ 1 , 2 ] is  3<br>\n",
    "x[ 1 , 3 ] is  1<br>\n",
    "x[ 2 , 0 ] is  2<br>\n",
    "x[ 2 , 1 ] is  4<br>\n",
    "x[ 2 , 2 ] is  1<br>\n",
    "x[ 2 , 3 ] is  3<br>\n",
    "x[ 3 , 0 ] is  4<br>\n",
    "x[ 3 , 1 ] is  1<br>\n",
    "x[ 3 , 2 ] is  2<br>\n",
    "x[ 3 , 3 ] is  3<br>\n",
    "\n"
   ]
  },
  {
   "cell_type": "code",
   "execution_count": null,
   "metadata": {},
   "outputs": [],
   "source": [
    "for row in np.arange(4):\n",
    "    for column in np.arange(4):\n",
    "        print("
   ]
  },
  {
   "cell_type": "code",
   "execution_count": null,
   "metadata": {},
   "outputs": [],
   "source": [
    "# this little bit of code will add up all of the array values\n",
    "sum = 0\n",
    "for row in np.arange(4):\n",
    "    for column in np.arange(4):\n",
    "        sum = sum + x[row,column]\n",
    "print(\"The total is: \", sum)        "
   ]
  },
  {
   "cell_type": "markdown",
   "metadata": {},
   "source": [
    "### Exercise 2c, <a name=\"back2\"></a> Two-dimensional array indices\n",
    "Finish the code below to print the AVERAGE value in the array"
   ]
  },
  {
   "cell_type": "code",
   "execution_count": null,
   "metadata": {},
   "outputs": [],
   "source": [
    "sum = 0\n",
    "for row in np.arange(4):\n",
    "    for column in np.arange(4):\n",
    "        # more python code here...\n",
    "        \n",
    "print(\"The average value is \", somevariable)        "
   ]
  },
  {
   "cell_type": "markdown",
   "metadata": {},
   "source": [
    "### Exercise 2d, <a name=\"back2\"></a> Two-dimensional array indices\n",
    "Finish the code below to print the MAXIMUM value in the array"
   ]
  },
  {
   "cell_type": "code",
   "execution_count": null,
   "metadata": {},
   "outputs": [],
   "source": [
    "max = 0\n",
    "for row in np.arange(4):\n",
    "    for column in np.arange(4):\n",
    "        # more python code here...\n",
    "        \n",
    "print(\"The maximum value is \", max)        "
   ]
  },
  {
   "cell_type": "markdown",
   "metadata": {},
   "source": [
    "<br><br>\n",
    "### When you have finished and double checked all of the parts of Exercises 1 and 2, use the File menu to \"Download\" your finished notebook and submit it as homework\n"
   ]
  }
 ],
 "metadata": {
  "kernelspec": {
   "display_name": "Python 3 (ipykernel)",
   "language": "python",
   "name": "python3"
  },
  "language_info": {
   "codemirror_mode": {
    "name": "ipython",
    "version": 3
   },
   "file_extension": ".py",
   "mimetype": "text/x-python",
   "name": "python",
   "nbconvert_exporter": "python",
   "pygments_lexer": "ipython3",
   "version": "3.9.5"
  },
  "latex_envs": {
   "LaTeX_envs_menu_present": true,
   "autoclose": false,
   "autocomplete": true,
   "bibliofile": "biblio.bib",
   "cite_by": "apalike",
   "current_citInitial": 1,
   "eqLabelWithNumbers": true,
   "eqNumInitial": 1,
   "hotkeys": {
    "equation": "Ctrl-E",
    "itemize": "Ctrl-I"
   },
   "labels_anchors": false,
   "latex_user_defs": false,
   "report_style_numbering": false,
   "user_envs_cfg": false
  },
  "varInspector": {
   "cols": {
    "lenName": 16,
    "lenType": 16,
    "lenVar": 40
   },
   "kernels_config": {
    "python": {
     "delete_cmd_postfix": "",
     "delete_cmd_prefix": "del ",
     "library": "var_list.py",
     "varRefreshCmd": "print(var_dic_list())"
    },
    "r": {
     "delete_cmd_postfix": ") ",
     "delete_cmd_prefix": "rm(",
     "library": "var_list.r",
     "varRefreshCmd": "cat(var_dic_list()) "
    }
   },
   "types_to_exclude": [
    "module",
    "function",
    "builtin_function_or_method",
    "instance",
    "_Feature"
   ],
   "window_display": false
  },
  "widgets": {
   "state": {},
   "version": "1.1.2"
  }
 },
 "nbformat": 4,
 "nbformat_minor": 4
}
