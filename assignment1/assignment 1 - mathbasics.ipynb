{
 "cells": [
  {
   "cell_type": "markdown",
   "metadata": {
    "deletable": false,
    "editable": false
   },
   "source": [
    "# This first assignment is a quick exercise in numbers, operations, and math in Python"
   ]
  },
  {
   "cell_type": "markdown",
   "metadata": {
    "deletable": false,
    "editable": false
   },
   "source": [
    "Remember your High School geometry class?  We're going to practice with some very simple python formulas for the areas of various shapes."
   ]
  },
  {
   "cell_type": "markdown",
   "metadata": {
    "deletable": false,
    "editable": false
   },
   "source": [
    "Start by fixing the following line to set the first value of the length of the side of a square, below, to the value 4.  We call that \"initializing\" a variable."
   ]
  },
  {
   "cell_type": "code",
   "execution_count": null,
   "metadata": {},
   "outputs": [],
   "source": [
    "cubeside = "
   ]
  },
  {
   "cell_type": "markdown",
   "metadata": {
    "deletable": false,
    "editable": false
   },
   "source": [
    "Now check that you did it correctly.  Don't forget to \"Run\" the previous line first so that the assignment takes effect."
   ]
  },
  {
   "cell_type": "code",
   "execution_count": null,
   "metadata": {},
   "outputs": [],
   "source": [
    "print(cubeside)"
   ]
  },
  {
   "cell_type": "markdown",
   "metadata": {
    "deletable": false,
    "editable": false
   },
   "source": [
    "OK, here comes the math!  Remember that the formula for the area of a square is the length of the edge squared.  So, the area of a 1x1 square is 1 units, the area of a 3x3 square is 9, etc.  Finish the equation below to calculate the area of the square that you defined above. For example, if the correct formula were to add 42 to the side, you might type:  \n",
    "\n",
    "cubearea = cubeside + 42"
   ]
  },
  {
   "cell_type": "code",
   "execution_count": null,
   "metadata": {},
   "outputs": [],
   "source": [
    "cubearea = "
   ]
  },
  {
   "cell_type": "markdown",
   "metadata": {
    "deletable": false,
    "editable": false
   },
   "source": [
    "Let's see if you did it correctly!"
   ]
  },
  {
   "cell_type": "code",
   "execution_count": null,
   "metadata": {
    "deletable": false,
    "editable": false
   },
   "outputs": [],
   "source": [
    "print(\"If the length of the side of my square is\", cubeside, \"the the area is\", cubearea)"
   ]
  },
  {
   "cell_type": "markdown",
   "metadata": {},
   "source": [
    "OK, so far so good, now let's do a rectangle.  In the lines below, initialize the 2 variables to be the height and width of a rectangle that is 4 by 6"
   ]
  },
  {
   "cell_type": "code",
   "execution_count": null,
   "metadata": {},
   "outputs": [],
   "source": [
    "rectheight = \n",
    "rectwidth = "
   ]
  },
  {
   "cell_type": "code",
   "execution_count": null,
   "metadata": {
    "deletable": false,
    "editable": false
   },
   "outputs": [],
   "source": [
    "print(rectheight)\n",
    "print(rectwidth)"
   ]
  },
  {
   "cell_type": "markdown",
   "metadata": {
    "deletable": false,
    "editable": false
   },
   "source": [
    "OK, you probably know what's coming next.  Finish the line below to calculate the area of that rectangle"
   ]
  },
  {
   "cell_type": "code",
   "execution_count": null,
   "metadata": {},
   "outputs": [],
   "source": [
    "rectarea = "
   ]
  },
  {
   "cell_type": "markdown",
   "metadata": {
    "deletable": false,
    "editable": false
   },
   "source": [
    "And now lets check our work!"
   ]
  },
  {
   "cell_type": "code",
   "execution_count": null,
   "metadata": {
    "deletable": false,
    "editable": false
   },
   "outputs": [],
   "source": [
    "print(\"If a rectangle is\", rectheight, \" x \", rectwidth, \", then its area is\", rectarea)"
   ]
  },
  {
   "cell_type": "markdown",
   "metadata": {
    "deletable": false,
    "editable": false
   },
   "source": [
    "Now that you've gotten this far, complete the lines for a circle below.  Give the circle a radius of 4 and assume that the value of Pi is 3.14"
   ]
  },
  {
   "cell_type": "code",
   "execution_count": null,
   "metadata": {},
   "outputs": [],
   "source": [
    "circleradius = \n",
    "circlearea = "
   ]
  },
  {
   "cell_type": "markdown",
   "metadata": {
    "deletable": false,
    "editable": false
   },
   "source": [
    "Now let's check your work.  The answer should be a little more than 50"
   ]
  },
  {
   "cell_type": "code",
   "execution_count": null,
   "metadata": {},
   "outputs": [],
   "source": [
    "print(\"If a circle has a radius of\", circleradius, \", then its area is\", circlearea)\n"
   ]
  },
  {
   "cell_type": "markdown",
   "metadata": {
    "deletable": false,
    "editable": false
   },
   "source": [
    "For this last part, you will need to do a little outside reading (well, OK, googling).  You need to calculate the area of an octagon.  Here's some hints:\n",
    "1. An octagon has 8 sides\n",
    "2. The formula is a little more complex, so remember that you sometimes need parentheses to make python do the operations in the correct order\n",
    "3. There is a good reference to doing math in Python on this page: \n",
    "    [Numbers](https://docs.python.org/3/library/stdtypes.html#numeric-types-int-float-complex)\n",
    "4. Python does not have a square root function, but you might remember from High School math that the square root of a number is the same as raising that number to the power 1/2!"
   ]
  },
  {
   "cell_type": "code",
   "execution_count": null,
   "metadata": {},
   "outputs": [],
   "source": [
    "octagonside =\n",
    "octagonarea = "
   ]
  },
  {
   "cell_type": "markdown",
   "metadata": {
    "deletable": false,
    "editable": false
   },
   "source": [
    "> Now write a print statement that will let you check your work with print() by generating some text like: \n",
    "\n",
    "if the length of the side of an octagon is 4, then its area is about 77.25"
   ]
  },
  {
   "cell_type": "code",
   "execution_count": null,
   "metadata": {},
   "outputs": [],
   "source": [
    "print()"
   ]
  },
  {
   "cell_type": "markdown",
   "metadata": {
    "deletable": false,
    "editable": false
   },
   "source": [
    "# Submit your assignment\n",
    "After everything above is correct and you've double checked everything, you should\n",
    "1. Find the leftmost \"File\" menu above \n",
    "2. Select \"Download as \" from that menu and download your completed workbook as \"Notebook (.ipynb)\"\n",
    "3. Save that file on your Desktop (your computer probably won't recognize the file type, that's OK)\n",
    "4. Go into blackboard for the class and upload that file as your solution to assignment 1"
   ]
  }
 ],
 "metadata": {
  "celltoolbar": "Edit Metadata",
  "kernelspec": {
   "display_name": "Python 3",
   "language": "python",
   "name": "python3"
  },
  "language_info": {
   "codemirror_mode": {
    "name": "ipython",
    "version": 3
   },
   "file_extension": ".py",
   "mimetype": "text/x-python",
   "name": "python",
   "nbconvert_exporter": "python",
   "pygments_lexer": "ipython3",
   "version": "3.8.8"
  }
 },
 "nbformat": 4,
 "nbformat_minor": 2
}
