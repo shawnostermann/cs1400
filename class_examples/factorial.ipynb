{
 "cells": [
  {
   "cell_type": "code",
   "execution_count": 2,
   "id": "3d56c3b5-b19c-41c5-bb53-9cb158eec9fe",
   "metadata": {},
   "outputs": [
    {
     "data": {
      "text/plain": [
       "3628800"
      ]
     },
     "execution_count": 2,
     "metadata": {},
     "output_type": "execute_result"
    }
   ],
   "source": [
    "def factorial(n):      # n should be a positive integer\n",
    "    if n == 0:          # 0! is the base case – it prevents infinite recursion\n",
    "        return 1\n",
    "    else:               # recursively find (n-1)! and multiply it by n\n",
    "        recurse = factorial(n-1)    \n",
    "        result = n * recurse\n",
    "        return result\n",
    "\n",
    "factorial(3)\n",
    "factorial(10)"
   ]
  },
  {
   "cell_type": "code",
   "execution_count": 7,
   "id": "df0cf9c6-4603-4fe7-95dc-991bdc96e9db",
   "metadata": {},
   "outputs": [
    {
     "name": "stdout",
     "output_type": "stream",
     "text": [
      "Finonacci( 0 ) is  0\n",
      "Finonacci( 1 ) is  1\n",
      "Finonacci( 2 ) is  1\n",
      "Finonacci( 3 ) is  2\n",
      "Finonacci( 4 ) is  3\n",
      "Finonacci( 5 ) is  5\n",
      "Finonacci( 6 ) is  8\n",
      "Finonacci( 7 ) is  13\n",
      "Finonacci( 8 ) is  21\n",
      "Finonacci( 9 ) is  34\n"
     ]
    }
   ],
   "source": [
    "def fibonacci (n):\n",
    "    if n == 0:\n",
    "        return 0\n",
    "    elif n == 1:\n",
    "        return 1\n",
    "    else:\n",
    "        return fibonacci(n-1) + fibonacci(n-2)  # 2 recursive calls\n",
    "\n",
    "for i in range(10):\n",
    "    print(\"Finonacci(\", i, \") is \", fibonacci(i))"
   ]
  }
 ],
 "metadata": {
  "kernelspec": {
   "display_name": "Python 3 (ipykernel)",
   "language": "python",
   "name": "python3"
  },
  "language_info": {
   "codemirror_mode": {
    "name": "ipython",
    "version": 3
   },
   "file_extension": ".py",
   "mimetype": "text/x-python",
   "name": "python",
   "nbconvert_exporter": "python",
   "pygments_lexer": "ipython3",
   "version": "3.9.5"
  }
 },
 "nbformat": 4,
 "nbformat_minor": 5
}
