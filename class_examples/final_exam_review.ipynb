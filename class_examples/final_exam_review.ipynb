{
 "cells": [
  {
   "cell_type": "markdown",
   "id": "31c89b57-0006-4828-b024-4d02d07cda6c",
   "metadata": {},
   "source": [
    "## Final Exam Review"
   ]
  },
  {
   "cell_type": "markdown",
   "id": "ae898969-8c7f-4983-a812-136aff309548",
   "metadata": {},
   "source": [
    "One way you can write for loops is to explicitely list the things that you want to iterate over"
   ]
  },
  {
   "cell_type": "code",
   "execution_count": null,
   "id": "9d80e63f-1446-4b86-8404-5065b57eb0e8",
   "metadata": {},
   "outputs": [],
   "source": [
    "# One of Python’s weaknesses is that it is dynamically typed. \n",
    "# Consider the following example:\n",
    "\n",
    "def sum(a,b):\n",
    "    return a+b\n",
    "\n",
    "print(sum(10,15))\n",
    "print(sum(\"10\",\"15\"))\n",
    "x=input(\"Give me x \")\n",
    "y=input(\"Give me y \")\n",
    "print(sum(x,y))\n",
    "# What’s the output?"
   ]
  },
  {
   "cell_type": "code",
   "execution_count": null,
   "id": "97a55526-de29-46a4-a8ce-51057cca6d01",
   "metadata": {},
   "outputs": [],
   "source": [
    "def PrimeFactorsOf (number):\n",
    "    for factor in range(2,number):  \n",
    "        # print(\"Trying to factor\", number, \"using factor\", factor)\n",
    "        if number % factor == 0:  \n",
    "            return [factor] + PrimeFactorsOf(number // factor)   # remember this // syntax???  (integer division)!!!\n",
    "    return [number]\n",
    "\n",
    "# what is the base case in that function???\n",
    "# why don't we start with 1?\n",
    "# hmmm... is the \"factor\" found in the loop above always prime?\n",
    "\n",
    "\n",
    "# quick test!\n",
    "print(PrimeFactorsOf(54))\n",
    "print(PrimeFactorsOf(557940830126698960967415390))\n"
   ]
  },
  {
   "cell_type": "code",
   "execution_count": null,
   "id": "8f6d4bdd-117d-49d5-b5e0-96067da7eb6e",
   "metadata": {},
   "outputs": [],
   "source": [
    "# let's make it easier to test!!!\n",
    "for testnum in 5 , 12 , 54, 1024, 6561, 7919, 1048576, 62710561, 557940830126698960967415390, 264431464441, 264431464441+2:\n",
    "    print(\"Calculating prime factors of\", testnum, \"...\")\n",
    "    answer = PrimeFactorsOf(testnum);\n",
    "    print(\"   factors:\", answer)\n",
    "    # NOW... let's make sure it's correct!!!\n",
    "    "
   ]
  },
  {
   "cell_type": "code",
   "execution_count": null,
   "id": "f39d9bf1-3147-4914-90d3-4b2024691cef",
   "metadata": {},
   "outputs": [],
   "source": [
    "# can we use that to create this function???\n",
    "def IsThisPrime(number):\n",
    "    return(False)\n",
    "\n",
    "\n",
    "print(IsThisPrime(5))\n",
    "print(IsThisPrime(49))\n",
    "print(IsThisPrime(271))\n",
    "print(IsThisPrime(1000))\n"
   ]
  },
  {
   "cell_type": "code",
   "execution_count": null,
   "id": "155284ab-b98f-4c43-b95c-1a0815d569cb",
   "metadata": {},
   "outputs": [],
   "source": [
    "import math\n",
    "print(math.sqrt(9))"
   ]
  }
 ],
 "metadata": {
  "kernelspec": {
   "display_name": "Python 3 (ipykernel)",
   "language": "python",
   "name": "python3"
  },
  "language_info": {
   "codemirror_mode": {
    "name": "ipython",
    "version": 3
   },
   "file_extension": ".py",
   "mimetype": "text/x-python",
   "name": "python",
   "nbconvert_exporter": "python",
   "pygments_lexer": "ipython3",
   "version": "3.9.5"
  }
 },
 "nbformat": 4,
 "nbformat_minor": 5
}
