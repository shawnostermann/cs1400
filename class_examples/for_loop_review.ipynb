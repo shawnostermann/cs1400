{
 "cells": [
  {
   "cell_type": "markdown",
   "id": "31c89b57-0006-4828-b024-4d02d07cda6c",
   "metadata": {},
   "source": [
    "## For Loop review"
   ]
  },
  {
   "cell_type": "markdown",
   "id": "ae898969-8c7f-4983-a812-136aff309548",
   "metadata": {},
   "source": [
    "One way you can write for loops is to explicitely list the things that you want to iterate over"
   ]
  },
  {
   "cell_type": "code",
   "execution_count": 1,
   "id": "9d80e63f-1446-4b86-8404-5065b57eb0e8",
   "metadata": {},
   "outputs": [
    {
     "name": "stdout",
     "output_type": "stream",
     "text": [
      "9\n"
     ]
    }
   ],
   "source": [
    "# you can list them in a python \"list\" \n",
    "total = 0\n",
    "for item in [1, 3, 5]:\n",
    "    total = total + item\n",
    "print(total)  "
   ]
  },
  {
   "cell_type": "code",
   "execution_count": 2,
   "id": "ffab0aed-cd0c-4676-b26a-6e427d807834",
   "metadata": {},
   "outputs": [
    {
     "name": "stdout",
     "output_type": "stream",
     "text": [
      "Looking at element -22.0\n",
      "Looking at element 3.5\n",
      "Looking at element 8.1\n",
      "Looking at element -10\n",
      "Looking at element 0.5\n",
      "sum is  12.1\n"
     ]
    }
   ],
   "source": [
    "# you can do that by listing as a \"tuple\":\n",
    "total = 0\n",
    "for num in (-22.0, 3.5, 8.1, -10, 0.5):  \n",
    "    print(\"Looking at element\", num)\n",
    "    if num > 0:\n",
    "        total = total + num\n",
    "print(\"sum is \", total)        \n",
    "        \n",
    "        \n",
    "        "
   ]
  },
  {
   "cell_type": "code",
   "execution_count": 3,
   "id": "d4a837af-cf82-48a1-9e62-553b22da849c",
   "metadata": {},
   "outputs": [
    {
     "name": "stdout",
     "output_type": "stream",
     "text": [
      "Looking at element -22.0\n",
      "Looking at element 3.5\n",
      "Looking at element 8.1\n",
      "Looking at element -10\n",
      "Looking at element 0.5\n",
      "sum is  12.1\n"
     ]
    }
   ],
   "source": [
    "# OR you can do that by listing as a \"tuple\": (the parentheses in a tuple are optional, but usually included)\n",
    "total = 0\n",
    "for num in -22.0, 3.5, 8.1, -10, 0.5:  \n",
    "    print(\"Looking at element\", num)\n",
    "    if num > 0:\n",
    "        total = total + num\n",
    "print(\"sum is \", total)        \n",
    "        \n",
    "        \n",
    "        "
   ]
  },
  {
   "cell_type": "code",
   "execution_count": 4,
   "id": "c9689007-8292-44ba-955f-4954642b8e8a",
   "metadata": {},
   "outputs": [
    {
     "name": "stdout",
     "output_type": "stream",
     "text": [
      "this is a vowel a\n",
      "this is a vowel e\n",
      "this is a vowel i\n"
     ]
    }
   ],
   "source": [
    "# or even as a string\n",
    "for letter in \"abcdefghij\":\n",
    "    if letter in \"aeiou\":\n",
    "        print(\"this is a vowel\", letter)\n"
   ]
  },
  {
   "cell_type": "markdown",
   "id": "57886139-a91d-41ae-9fa3-1c0cdd14e293",
   "metadata": {},
   "source": [
    "# Or you can use a function that CREATES a list of elements to iterate over"
   ]
  },
  {
   "cell_type": "code",
   "execution_count": 8,
   "id": "2f0ab1dd-4f34-4b19-abca-50d9a019f21f",
   "metadata": {},
   "outputs": [
    {
     "name": "stdout",
     "output_type": "stream",
     "text": [
      "0\n",
      "1\n",
      "2\n",
      "3\n",
      "4\n"
     ]
    }
   ],
   "source": [
    "# we've been using range() for this.  Here's a reminder of how it works...\n",
    "\n",
    "# with just one argument, it runs from 0 through (but not all to way to) the argument you specify\n",
    "for x in range(5):\n",
    "    print(x)\n"
   ]
  },
  {
   "cell_type": "code",
   "execution_count": 9,
   "id": "ce8ebd4b-8e5a-4804-861c-cb4fcac4331b",
   "metadata": {},
   "outputs": [
    {
     "name": "stdout",
     "output_type": "stream",
     "text": [
      "2\n",
      "3\n",
      "4\n"
     ]
    }
   ],
   "source": [
    "# with 2 arguments, you can specify both the LOWER and UPPER limit\n",
    "for x in range(2,5):\n",
    "    print(x)\n"
   ]
  },
  {
   "cell_type": "code",
   "execution_count": 10,
   "id": "839d783d-ce0b-40b6-b8f8-076624ebfb12",
   "metadata": {},
   "outputs": [],
   "source": [
    "# remember that, by default, the \"step\" is +1, this this doesn't loop at all:\n",
    "for x in range(5,2):\n",
    "    print(x)\n"
   ]
  },
  {
   "cell_type": "code",
   "execution_count": 11,
   "id": "f84aa4de-c98e-4097-b7aa-28313c2f01b4",
   "metadata": {},
   "outputs": [
    {
     "name": "stdout",
     "output_type": "stream",
     "text": [
      "10\n",
      "9\n",
      "8\n",
      "7\n",
      "6\n",
      "5\n",
      "4\n",
      "3\n"
     ]
    }
   ],
   "source": [
    "# but if you specify a negative STEP, it will:\n",
    "# remember that, by default, the \"step\" is +1, this this doesn't loop at all:\n",
    "for x in range(10,2,-1):\n",
    "    print(x)\n"
   ]
  },
  {
   "cell_type": "markdown",
   "id": "4dd649b6-41c1-4050-b495-074c0b397be1",
   "metadata": {},
   "source": [
    "## using for loops with lists"
   ]
  },
  {
   "cell_type": "code",
   "execution_count": 26,
   "id": "1ca73d54-d332-4288-b218-f4fa665e5fe1",
   "metadata": {},
   "outputs": [
    {
     "name": "stdout",
     "output_type": "stream",
     "text": [
      "Ford\n",
      "Volvo\n",
      "BMW\n",
      "Toyota\n",
      "Tesla\n",
      "GM\n",
      "Pontiac\n"
     ]
    }
   ],
   "source": [
    "# a simple Python list has elements that can be any type\n",
    "cars = [\"Ford\", \"Volvo\", \"BMW\", \"Toyota\", \"Tesla\", \"GM\", \"Pontiac\"] \n",
    "for car in cars:\n",
    "    print(car)"
   ]
  },
  {
   "cell_type": "code",
   "execution_count": 27,
   "id": "60d1792f-d750-4e31-a186-29440f42db06",
   "metadata": {},
   "outputs": [
    {
     "name": "stdout",
     "output_type": "stream",
     "text": [
      "length:  7\n",
      "0\n",
      "Ford\n",
      "1\n",
      "Volvo\n",
      "2\n",
      "BMW\n",
      "3\n",
      "Toyota\n",
      "4\n",
      "Tesla\n",
      "5\n",
      "GM\n",
      "6\n",
      "Pontiac\n"
     ]
    }
   ],
   "source": [
    "# or we can do it the old fashioned way...\n",
    "cars = [\"Ford\", \"Volvo\", \"BMW\", \"Toyota\", \"Tesla\", \"GM\", \"Pontiac\"] \n",
    "print(\"length: \" , len(cars))\n",
    "for car in range(len(cars)):\n",
    "    print(car)\n",
    "    print(cars[car])\n",
    "# how would you print them in REVERSE!!!!    "
   ]
  },
  {
   "cell_type": "markdown",
   "id": "efe1d7a0-893a-4f54-b157-42c5fc5154d2",
   "metadata": {},
   "source": [
    "## To do more mathematical things, we usually use numpy"
   ]
  },
  {
   "cell_type": "code",
   "execution_count": 39,
   "id": "8a6fe1bb-a2d9-4f4f-a730-b1a46554ef86",
   "metadata": {},
   "outputs": [
    {
     "name": "stdout",
     "output_type": "stream",
     "text": [
      "[[0, 0, 0, 0, 0, 0, 0], [0, 0, 0, 2, 2, 2, 2], [0, 1, 1, 0, 0, 0, 0], [0, 1, 0, 1, 0, 0, 0], [0, 1, 0, 0, 1, 0, 0], [0, 1, 0, 0, 0, 1, 0]]\n",
      "0\n",
      "0\n",
      "2\n",
      "2\n"
     ]
    }
   ],
   "source": [
    " import numpy as np\n",
    "ROW_COUNT = 6\n",
    "COLUMN_COUNT=7\n",
    "testboard = np.zeros((ROW_COUNT,COLUMN_COUNT))\n",
    "testboard = \\\n",
    "        [[0, 0, 0, 0, 0, 0, 0],\n",
    "         [0, 0, 0, 2, 2, 2, 2],\n",
    "         [0, 1, 1, 0, 0, 0, 0],\n",
    "         [0, 1, 0, 1, 0, 0, 0],\n",
    "         [0, 1, 0, 0, 1, 0, 0],\n",
    "         [0, 1, 0, 0, 0, 1, 0]]\n",
    "print(testboard)\n",
    "print(testboard[0].count(1))\n",
    "print(testboard[1].count(1))\n",
    "print(testboard[2].count(1))\n",
    "print(testboard[3].count(1))\n",
    "\n",
    "   "
   ]
  },
  {
   "cell_type": "code",
   "execution_count": 47,
   "id": "d36cb632-8111-44a6-ab6d-bac38e953fa6",
   "metadata": {},
   "outputs": [
    {
     "name": "stdout",
     "output_type": "stream",
     "text": [
      "8\n",
      "1\n"
     ]
    }
   ],
   "source": [
    "#\n",
    "# class exercise : \n",
    "testboard = np.array([1,2,3,4,5,6,7,8])\n",
    "print(testboard.max())\n",
    "print(testboard.min())\n",
    "#\n",
    "# write a function called arr_average() to computer the average value\n"
   ]
  },
  {
   "cell_type": "code",
   "execution_count": 51,
   "id": "e3169521-fe61-4a6e-8a85-3980838ce871",
   "metadata": {},
   "outputs": [],
   "source": [
    "def arr_average(arr):\n"
   ]
  },
  {
   "cell_type": "code",
   "execution_count": 52,
   "id": "eedd2b10-aae1-4120-aa47-bb34455eef2b",
   "metadata": {},
   "outputs": [
    {
     "name": "stdout",
     "output_type": "stream",
     "text": [
      "1\n",
      "2\n",
      "3\n",
      "4\n",
      "5\n",
      "6\n",
      "7\n",
      "8\n"
     ]
    }
   ],
   "source": [
    "# and test it!\n",
    "testboard = np.array([1,2,3,4,5,6,7,8])\n",
    "arr_average(testboard)\n",
    "   "
   ]
  },
  {
   "cell_type": "code",
   "execution_count": 56,
   "id": "f9ec8ed1-e521-4267-adcd-7f532b600ab9",
   "metadata": {},
   "outputs": [],
   "source": [
    "#\n",
    "# class exercise\n",
    "# how many of the 2d array's neighbors at x,y have the same value???\n",
    "#\n",
    "def neighbors(arr2d,x,y):\n",
    "        return(0)\n",
    "    \n"
   ]
  },
  {
   "cell_type": "code",
   "execution_count": 58,
   "id": "5c7aaec2-d227-4b85-9337-c07fca638c01",
   "metadata": {},
   "outputs": [
    {
     "name": "stdout",
     "output_type": "stream",
     "text": [
      "0\n"
     ]
    }
   ],
   "source": [
    "ROW_COUNT = 6\n",
    "COLUMN_COUNT=7\n",
    "testboard = np.zeros((ROW_COUNT,COLUMN_COUNT))\n",
    "testboard = \\\n",
    "        [[0, 0, 0, 0, 0, 0, 0],\n",
    "         [0, 0, 0, 2, 2, 2, 2],\n",
    "         [0, 1, 1, 0, 0, 0, 0],\n",
    "         [0, 1, 0, 1, 0, 0, 0],\n",
    "         [0, 1, 0, 0, 1, 0, 0],\n",
    "         [0, 1, 0, 0, 0, 1, 0]]\n",
    "print(neighbors(testboard,2,3))        "
   ]
  },
  {
   "cell_type": "code",
   "execution_count": null,
   "id": "eb56dc43-8ef8-4c73-a361-bb34055df229",
   "metadata": {},
   "outputs": [],
   "source": []
  }
 ],
 "metadata": {
  "kernelspec": {
   "display_name": "Python 3 (ipykernel)",
   "language": "python",
   "name": "python3"
  },
  "language_info": {
   "codemirror_mode": {
    "name": "ipython",
    "version": 3
   },
   "file_extension": ".py",
   "mimetype": "text/x-python",
   "name": "python",
   "nbconvert_exporter": "python",
   "pygments_lexer": "ipython3",
   "version": "3.9.5"
  }
 },
 "nbformat": 4,
 "nbformat_minor": 5
}
