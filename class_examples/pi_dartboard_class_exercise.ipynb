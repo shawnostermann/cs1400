{
 "cells": [
  {
   "cell_type": "markdown",
   "id": "6e782595-8673-4e34-91e7-ddad7b0849cc",
   "metadata": {},
   "source": [
    "class solution to dartboard PI experiment"
   ]
  },
  {
   "cell_type": "code",
   "execution_count": 3,
   "id": "f6413082-a932-4f93-9db6-7c8e9e9bf89b",
   "metadata": {},
   "outputs": [],
   "source": [
    "import numpy as np\n",
    "import numpy.random as rnd\n",
    "\n",
    "dartsthrown = 0\n",
    "dartshit = 0\n",
    "dartsmissed = 0\n"
   ]
  },
  {
   "cell_type": "code",
   "execution_count": 4,
   "id": "1e2c82fd-e2d4-40b3-b6d1-9f48a1fb82ee",
   "metadata": {},
   "outputs": [
    {
     "name": "stdout",
     "output_type": "stream",
     "text": [
      "-0.27535944278129487 0.12481816984251393\n"
     ]
    }
   ],
   "source": [
    "x = (rnd.random()*2)-1\n",
    "y = (rnd.random()*2)-1\n",
    "print(x,y)"
   ]
  },
  {
   "cell_type": "code",
   "execution_count": 16,
   "id": "cbee9498-a930-4ae6-a598-286d695165eb",
   "metadata": {},
   "outputs": [
    {
     "name": "stdout",
     "output_type": "stream",
     "text": [
      "0.7976249493039489 -0.5128264769354329\n"
     ]
    }
   ],
   "source": [
    "print(x,y)"
   ]
  },
  {
   "cell_type": "code",
   "execution_count": 5,
   "id": "8305c6ad-ddaf-4b89-a4fc-6a383072f24b",
   "metadata": {},
   "outputs": [],
   "source": [
    "def coordinate():\n",
    "    c = (rnd.random()*2)-1\n",
    "    return c"
   ]
  },
  {
   "cell_type": "code",
   "execution_count": 6,
   "id": "68610df4-603d-4473-81b2-490517f3f302",
   "metadata": {},
   "outputs": [
    {
     "name": "stdout",
     "output_type": "stream",
     "text": [
      "0.07684692376601121 -0.879715927872389\n"
     ]
    }
   ],
   "source": [
    "a = coordinate()\n",
    "b = coordinate()\n",
    "print (a,b)"
   ]
  },
  {
   "cell_type": "code",
   "execution_count": 8,
   "id": "51ad7749-eab5-4caa-a165-2e2b2103aec3",
   "metadata": {},
   "outputs": [],
   "source": [
    "def distance(a1,b1,a2,b2):\n",
    "    h = ((a2-a1)**2 + (b2-b1)**2)**(1/2)\n",
    "    return h\n"
   ]
  },
  {
   "cell_type": "code",
   "execution_count": 28,
   "id": "50846e55-fb93-43b7-a3a6-0dc13671eb65",
   "metadata": {},
   "outputs": [
    {
     "name": "stdout",
     "output_type": "stream",
     "text": [
      "1.0\n"
     ]
    }
   ],
   "source": [
    "print(distance(0,1,0,0))"
   ]
  },
  {
   "cell_type": "code",
   "execution_count": 9,
   "id": "86d10838-b00c-45b1-ab8f-960b81f33bbc",
   "metadata": {},
   "outputs": [],
   "source": [
    "def dartdist(a,b):\n",
    "    d = distance(a,b,0,0)\n",
    "    return d"
   ]
  },
  {
   "cell_type": "code",
   "execution_count": 33,
   "id": "2fd86dc4-6911-4673-80e2-136526b2113d",
   "metadata": {},
   "outputs": [
    {
     "name": "stdout",
     "output_type": "stream",
     "text": [
      "1.0\n"
     ]
    }
   ],
   "source": [
    "print(dartdist(1,0))"
   ]
  },
  {
   "cell_type": "code",
   "execution_count": 22,
   "id": "d0d7c746-3d85-4e56-a7a9-3a3089f11da4",
   "metadata": {},
   "outputs": [
    {
     "name": "stdout",
     "output_type": "stream",
     "text": [
      "3.1416563225604843\n"
     ]
    }
   ],
   "source": [
    "for outer in range(10000000):\n",
    "    dartsthrown = dartsthrown + 1\n",
    "    x = coordinate()\n",
    "    y = coordinate()\n",
    "    dist = dartdist(x,y)\n",
    "    # print(x,y)\n",
    "    if (dist < 1):\n",
    "        dartshit = dartshit + 1\n",
    "    else: \n",
    "        dartsmissed = dartsmissed+1\n",
    "pi_estimate = 4 * (dartshit / dartsthrown)\n",
    "print (pi_estimate)"
   ]
  },
  {
   "cell_type": "code",
   "execution_count": null,
   "id": "2bfaa4df-be65-4cc9-a0e0-0a0b1473f84a",
   "metadata": {},
   "outputs": [],
   "source": []
  }
 ],
 "metadata": {
  "kernelspec": {
   "display_name": "Python 3 (ipykernel)",
   "language": "python",
   "name": "python3"
  },
  "language_info": {
   "codemirror_mode": {
    "name": "ipython",
    "version": 3
   },
   "file_extension": ".py",
   "mimetype": "text/x-python",
   "name": "python",
   "nbconvert_exporter": "python",
   "pygments_lexer": "ipython3",
   "version": "3.9.5"
  }
 },
 "nbformat": 4,
 "nbformat_minor": 5
}
