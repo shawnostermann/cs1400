{
 "cells": [
  {
   "cell_type": "code",
   "execution_count": null,
   "id": "4aaf631e-9bc0-48b2-8724-9469fade784b",
   "metadata": {},
   "outputs": [],
   "source": [
    "#Turtles and Fractles\n",
    "from calysto.graphics import *\n",
    "from calysto.display import display, clear_output\n",
    "import time\n",
    "import math"
   ]
  },
  {
   "cell_type": "code",
   "execution_count": null,
   "id": "006db465-f4fc-40d2-b01a-e1709a2b16ce",
   "metadata": {},
   "outputs": [],
   "source": [
    "# Here's a function that you can use to \"show\" what you're drawing from time to time.\n",
    "# Note that, until you call these routines, the drawing won't appear\n",
    "# The argument is the canvas to use\n",
    "def SHOW(c):\n",
    "    \"\"\"\" Show the canvas passed as an argument\n",
    "    \"\"\"\n",
    "    #clear_output(wait=True)  # if you don't clear, than every call to SHOW makes more output\n",
    "    display(c)\n"
   ]
  },
  {
   "cell_type": "code",
   "execution_count": null,
   "id": "61c72334-652f-4e6f-b2d6-0553b945aa66",
   "metadata": {},
   "outputs": [],
   "source": [
    "def tree(t,len):\n",
    "    # base case.\n",
    "    if (len<5):\n",
    "        # just leaves\n",
    "        t.stroke = Color(35, 67, 17) # leaf green\n",
    "        t.forward(len)\n",
    "    else:\n",
    "            t.stroke = Color(165,42,42) #brown\n",
    "       # base  \n",
    "            t.stroke = Color(165,42,42) #brown\n",
    "            t.forward(len/3)\n",
    "        # left branch\n",
    "            t.left(45)\n",
    "            tree(t,len/3)\n",
    "        # right branch \n",
    "            t.penup()\n",
    "            t.left(180)  # reverse!\n",
    "            t.forward(len/3)\n",
    "            t.left(90)\n",
    "            t.pendown()\n",
    "            tree(t,len/3)\n",
    "\n",
    "        # top 2/3’s of the fern\n",
    "            t.penup()\n",
    "            t.left(180)  # reverse!\n",
    "            t.forward(len/3)\n",
    "            t.right(90+45)\n",
    "            t.pendown()\n",
    "            tree(t,2*(len/3))\n"
   ]
  },
  {
   "cell_type": "code",
   "execution_count": null,
   "id": "6a75811e-dfc1-4d15-8847-fd8061717933",
   "metadata": {},
   "outputs": [],
   "source": [
    "# now draw a \"little\" tree\n",
    "canvas = Canvas(size=(300, 400))\n",
    "\n",
    "bob=Turtle(canvas, (100, 350), 0)\n",
    "bob.left(90)   # face UP\n",
    "tree(bob,300)\n",
    "\n",
    "# move the turtle out of the way\n",
    "bob.penup()\n",
    "bob.left(90)\n",
    "bob.forward(100)\n",
    "\n",
    "# and show the result\n",
    "SHOW(canvas)\n",
    "\n"
   ]
  },
  {
   "cell_type": "code",
   "execution_count": null,
   "id": "3a2f0e02-621a-4977-8157-966fb4f236d8",
   "metadata": {},
   "outputs": [],
   "source": [
    "canvas = Canvas(size=(300, 400))\n",
    "\n",
    "bob=Turtle(canvas, (100, 350), 0)\n",
    "bob.left(90)   # face UP\n",
    "tree(bob,300)\n",
    "\n",
    "# move the turtle out of the way\n",
    "bob.penup()\n",
    "bob.left(90)\n",
    "bob.forward(100)\n",
    "\n",
    "\n",
    "\n",
    "# and show the result\n",
    "SHOW(canvas)\n",
    "\n"
   ]
  },
  {
   "cell_type": "code",
   "execution_count": null,
   "id": "c046a651-1df6-4a8e-8119-4e8afad851b8",
   "metadata": {},
   "outputs": [],
   "source": [
    "# Fractal Line\n",
    "def fline(t,len):\n",
    "    if (len<2):\n",
    "        t.forward(len)\n",
    "    else:\n",
    "        fline(t,len/3)\n",
    "        t.left(90)\n",
    "        fline(t,len/5)\n",
    "        t.right(90)\n",
    "        fline(t,len/3)\n",
    "        t.right(90)\n",
    "        fline(t,len/5)\n",
    "        t.left(90)\n",
    "        fline(t,len/3)\n"
   ]
  },
  {
   "cell_type": "code",
   "execution_count": null,
   "id": "040f8575-8bf9-4bb2-9895-596d9d824a72",
   "metadata": {},
   "outputs": [],
   "source": [
    "canvas = Canvas(size=(600, 200))\n",
    "\n",
    "fluffy=Turtle(canvas, (10, 175), 0)\n",
    "fluffy.left(0)   # face RIGHT\n",
    "fline(fluffy,500)\n",
    "\n",
    "# move Fluffy out of the way\n",
    "fluffy.penup()\n",
    "fluffy.left(90)\n",
    "fluffy.forward(100)\n",
    "\n",
    "# and show the result\n",
    "SHOW(canvas)\n",
    "\n"
   ]
  },
  {
   "cell_type": "code",
   "execution_count": null,
   "id": "d07c2e49-e5cc-4cdc-9feb-04a0b7842a40",
   "metadata": {},
   "outputs": [],
   "source": [
    "#snowflake \n",
    "def frac_snowflake(t,n,length):\n",
    "    angle=360/n  \n",
    "    for i in range(n):  # Draw n sides\n",
    "        fline(t,length)   # replace t.forward with fline!!!!\n",
    "        t.left(angle)"
   ]
  },
  {
   "cell_type": "code",
   "execution_count": null,
   "id": "81db3606-7230-44f1-acb0-2112f676186e",
   "metadata": {},
   "outputs": [],
   "source": []
  },
  {
   "cell_type": "code",
   "execution_count": null,
   "id": "284068aa-830c-4511-90ff-80a5eb88c76e",
   "metadata": {},
   "outputs": [],
   "source": [
    "canvas = Canvas(size=(600, 600))\n",
    "elsa=Turtle(canvas, (100, 300), 0)\n",
    "elsa.left(0)   # face RIGHT\n",
    "frac_snowflake(elsa,n=8,length=100)\n",
    "\n",
    "# move elsa out of the way\n",
    "elsa.penup()\n",
    "elsa.forward(200)\n",
    "\n",
    "# and show the result\n",
    "SHOW(canvas)\n"
   ]
  },
  {
   "cell_type": "code",
   "execution_count": null,
   "id": "97057837-7f41-474f-aa27-9a6a2b55d39b",
   "metadata": {},
   "outputs": [],
   "source": [
    "import random\n",
    "# colorful snowflake \n",
    "def randcolor():\n",
    "        r=random.randint(0,1)*255\n",
    "        g=random.randint(0,1)*255\n",
    "        b=random.randint(0,1)*255\n",
    "\n",
    "        return(Color(r,g,b))\n",
    "\n",
    "def cfline(t,len):\n",
    "    if (len<2):\n",
    "        t.stroke = randcolor()\n",
    "        t.forward(len)\n",
    "    else:\n",
    "        cfline(t,len/3)\n",
    "        t.left(90)\n",
    "        cfline(t,len/5)\n",
    "        t.right(90)\n",
    "        cfline(t,len/3)\n",
    "        t.right(90)\n",
    "        cfline(t,len/5)\n",
    "        t.left(90)\n",
    "        cfline(t,len/3)\n",
    "\n",
    "def frac_csnowflake(t,n,length):\n",
    "    angle=360/n  \n",
    "    for i in range(n):  # Draw n sides\n",
    "        cfline(t,length)   # replace t.forward with fline!!!!\n",
    "        t.left(angle)"
   ]
  },
  {
   "cell_type": "code",
   "execution_count": null,
   "id": "20e57b59-53ac-44ec-9cc2-e5a838595bde",
   "metadata": {},
   "outputs": [],
   "source": [
    "\n",
    "canvas = Canvas(size=(500, 500))\n",
    "elsa=Turtle(canvas, (150, 450), 0)\n",
    "elsa.left(0)   # face RIGHT\n",
    "frac_csnowflake(elsa,n=8,length=150)\n",
    "\n",
    "# move elsa out of the way\n",
    "elsa.penup()\n",
    "elsa.forward(200)\n",
    "\n",
    "# and show the result\n",
    "SHOW(canvas)\n"
   ]
  }
 ],
 "metadata": {
  "kernelspec": {
   "display_name": "Python 3 (ipykernel)",
   "language": "python",
   "name": "python3"
  },
  "language_info": {
   "codemirror_mode": {
    "name": "ipython",
    "version": 3
   },
   "file_extension": ".py",
   "mimetype": "text/x-python",
   "name": "python",
   "nbconvert_exporter": "python",
   "pygments_lexer": "ipython3",
   "version": "3.9.5"
  }
 },
 "nbformat": 4,
 "nbformat_minor": 5
}
