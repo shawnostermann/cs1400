{
 "cells": [
  {
   "cell_type": "code",
   "execution_count": null,
   "id": "91d213b0-f576-4a2b-8565-3f76d6a618d2",
   "metadata": {},
   "outputs": [],
   "source": [
    "def matchFirst ( s1 , s2 ):\n",
    "    '''Compare the first characters in s1 and s2\n",
    "    and return True if they are the same.\n",
    "    False if not'''\n",
    "    if s1 [0] == s2 [0]:\n",
    "        return True\n",
    "    else :\n",
    "        return False\n",
    "\n",
    "matchFirst(\"abc\", \"abd\")"
   ]
  },
  {
   "cell_type": "code",
   "execution_count": null,
   "id": "d160010a-f59a-4a3d-8f84-a23b8403572a",
   "metadata": {},
   "outputs": [],
   "source": [
    "def matchFirst ( s1 , s2 ):\n",
    "    '''Compare the first characters in s1 and s2\n",
    "    and return True if they are the same.\n",
    "    False if not'''\n",
    "    return s1 [0] == s2 [0]       \n",
    "\n",
    "matchFirst(\"abc\", \"abd\")"
   ]
  },
  {
   "cell_type": "code",
   "execution_count": null,
   "id": "4ad353b0-9313-46c6-a5a3-9af2d853d5b3",
   "metadata": {},
   "outputs": [],
   "source": [
    "def distance(s1, s2):\n",
    "    '''Return the distance between two strings, \n",
    "    each of which is of length four.'''\n",
    "    editDist = 0\n",
    "    if s1[0] != s2[0]:\n",
    "        editDist = editDist + 1\n",
    "    if s1[1] != s2[1]:\n",
    "        editDist = editDist + 1\n",
    "    if s1[2] != s2[2]:\n",
    "        editDist = editDist + 1\n",
    "    if s1[3] != s2[3]:\n",
    "        editDist = editDist + 1\n",
    "    return editDist\n",
    "distance(\"abcd\", \"abdd\")"
   ]
  },
  {
   "cell_type": "code",
   "execution_count": null,
   "id": "a2251a91-c071-4cf1-8551-d31a9ab0654a",
   "metadata": {},
   "outputs": [],
   "source": [
    "def simpleDistance(s1, s2):\n",
    "    '''Takes two strings of the same length and returns the\n",
    "    number of positions in which they differ.'''\n",
    "    if len(s1) == 0:     # len(s2) is also 0 since strings have the same length\n",
    "         return 0         # base case for recursion\n",
    "    elif s1[0] != s2[0]:  # recursive step, case 1\n",
    "         return 1 + simpleDistance(s1[1:], s2[1:])\n",
    "    else:                 # recursive step, case 2\n",
    "         return simpleDistance(s1[1:], s2[1:])\n",
    "\n",
    "simpleDistance(\"Supercalifragilisticexpialidocious\", \"Supercalifragilisticexpialedocious\")\n"
   ]
  },
  {
   "cell_type": "code",
   "execution_count": null,
   "id": "ffc324b4-1c87-4f71-947f-636d72a53a8c",
   "metadata": {},
   "outputs": [],
   "source": [
    "def distance(first, second):\n",
    "    #print(\"First: ''\", first, \"''   Second: ''\", second, \"'\"\"'\")\n",
    "    '''Returns the edit distance between first and second.'''\n",
    "    if first == '':              # If either string is empty, return the number\n",
    "        return len(second)       # of characters left to delete in the other string.\n",
    "    elif second == '':                   # The first if and elif are the base for recursion.\n",
    "        return len(first)\n",
    "    elif first[0] == second[0]:                  # If the first characters match, \n",
    "        return distance(first[1:], second[1:])   # continue with the rest.\n",
    "    else:   # The first characters don’t match.  Add 1, and find the cheapest\n",
    "            # way to process the remaining characters.\n",
    "        substitution = 1 + distance(first[1:], second[1:])\n",
    "        deletion = 1 + distance(first[1:], second)\n",
    "        insertion = 1 + distance(first, second[1:])\n",
    "        return min(substitution, deletion, insertion)   # min is a built-in function\n",
    "\n",
    "#distance(\"12\", \"1\")\n",
    "#distance(\"abcde\", \"abcd\")\n",
    "#distance(\"abefg\", \"abcdefg\")\n",
    "#distance(\"python\", \"thon\")\n",
    "#distance(\"Supercalifragilisticexpialidocious\", \"Supercalifragilisticexpialedocious\")\n",
    "#distance(\"Supercalifragilisticexpialidocious\", \"Really Cool!!!\")\n"
   ]
  },
  {
   "cell_type": "code",
   "execution_count": null,
   "id": "8033647a-c182-4e1d-8381-46804ceb3567",
   "metadata": {},
   "outputs": [],
   "source": []
  }
 ],
 "metadata": {
  "kernelspec": {
   "display_name": "Python 3 (ipykernel)",
   "language": "python",
   "name": "python3"
  },
  "language_info": {
   "codemirror_mode": {
    "name": "ipython",
    "version": 3
   },
   "file_extension": ".py",
   "mimetype": "text/x-python",
   "name": "python",
   "nbconvert_exporter": "python",
   "pygments_lexer": "ipython3",
   "version": "3.9.5"
  }
 },
 "nbformat": 4,
 "nbformat_minor": 5
}
