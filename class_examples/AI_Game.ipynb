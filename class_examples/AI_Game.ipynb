{
 "cells": [
  {
   "cell_type": "markdown",
   "id": "81c5b272-3c54-430e-9726-e04d0f86b408",
   "metadata": {},
   "source": [
    "Let’s consider a simple game where there is a linear board with 10 slots.\n",
    "Two players can place pebbles (Black or White) on the board in any unoccupied location.\n",
    "A player wins the game when either there are 3 Black pebbles or 3 White pebbles in a row on the board.\n",
    "The game ends in a tie when there are no available locations on the board.\n"
   ]
  },
  {
   "cell_type": "code",
   "execution_count": null,
   "id": "beca4309-b9e6-4362-a966-ea836bcaa5c4",
   "metadata": {},
   "outputs": [],
   "source": [
    "def win(board,player):\n",
    "    for i in range(len(board)-2):\n",
    "        found=True\n",
    "        for j in range(3):\n",
    "            if (board[i+j]!=player):\n",
    "                found=False\n",
    "        if (found):\n",
    "            return True\n",
    "    return False"
   ]
  },
  {
   "cell_type": "code",
   "execution_count": null,
   "id": "ffdf0d6f-dd69-44e2-a00e-ba1f0a28dfce",
   "metadata": {},
   "outputs": [],
   "source": [
    "def tie(board):\n",
    "    space_found=False\n",
    "    for i in range(len(board)):\n",
    "        if (board[i]==\" \"):\n",
    "            space_found=True\n",
    "    return not space_found\n"
   ]
  },
  {
   "cell_type": "code",
   "execution_count": 67,
   "id": "6f8da712-ed9d-4d07-b646-db23800f356b",
   "metadata": {},
   "outputs": [],
   "source": [
    "# Ostermann's version\n",
    "def print_board(board):\n",
    "    border= \"+---\"*10 + \"+\"\n",
    "    str1=\"\"\n",
    "    index=\"\"\n",
    "    for i in board:\n",
    "        str1=str1+\"| \"+i+\" \"\n",
    "    str1=str1+\"|\"\n",
    "    for i in range(10):\n",
    "        index=index+\"  \"+str(i)+\" \"\n",
    "\n",
    "    print(index)\n",
    "    print(border)\n",
    "    print(str1)\n",
    "    print(border)\n"
   ]
  },
  {
   "cell_type": "code",
   "execution_count": 76,
   "id": "76e6edf0-2629-4c6f-acb5-99e75bcc48b0",
   "metadata": {},
   "outputs": [],
   "source": [
    "# Notes version\n",
    "def print_board(board):\n",
    "    str1=\"\"\n",
    "    for i in board:\n",
    "        str1=str1+\"|\"+i\n",
    "    print(str1)\n"
   ]
  },
  {
   "cell_type": "code",
   "execution_count": null,
   "id": "431c91e4-bb6c-403c-ba18-47f89e8aece0",
   "metadata": {},
   "outputs": [
    {
     "name": "stdout",
     "output_type": "stream",
     "text": [
      "Initial board = \n",
      "|  |  |  |  |  |  |  |  |  |  \n",
      "Current board = \n",
      "|  |  |  |  |  |  |  |  |  |  \n"
     ]
    },
    {
     "name": "stdin",
     "output_type": "stream",
     "text": [
      "Enter a position for player B 1\n"
     ]
    },
    {
     "name": "stdout",
     "output_type": "stream",
     "text": [
      "Current board = \n",
      "|  |B |  |  |  |  |  |  |  |  \n"
     ]
    },
    {
     "name": "stdin",
     "output_type": "stream",
     "text": [
      "Enter a position for player W 2\n"
     ]
    },
    {
     "name": "stdout",
     "output_type": "stream",
     "text": [
      "Current board = \n",
      "|  |B |W |  |  |  |  |  |  |  \n"
     ]
    },
    {
     "name": "stdin",
     "output_type": "stream",
     "text": [
      "Enter a position for player B 3\n"
     ]
    },
    {
     "name": "stdout",
     "output_type": "stream",
     "text": [
      "Current board = \n",
      "|  |B |W |B |  |  |  |  |  |  \n"
     ]
    },
    {
     "name": "stdin",
     "output_type": "stream",
     "text": [
      "Enter a position for player W 4\n"
     ]
    },
    {
     "name": "stdout",
     "output_type": "stream",
     "text": [
      "Current board = \n",
      "|  |B |W |B |W |  |  |  |  |  \n"
     ]
    },
    {
     "name": "stdin",
     "output_type": "stream",
     "text": [
      "Enter a position for player B 5\n"
     ]
    },
    {
     "name": "stdout",
     "output_type": "stream",
     "text": [
      "Current board = \n",
      "|  |B |W |B |W |B |  |  |  |  \n"
     ]
    },
    {
     "name": "stdin",
     "output_type": "stream",
     "text": [
      "Enter a position for player W 6\n"
     ]
    },
    {
     "name": "stdout",
     "output_type": "stream",
     "text": [
      "Current board = \n",
      "|  |B |W |B |W |B |W |  |  |  \n"
     ]
    },
    {
     "name": "stdin",
     "output_type": "stream",
     "text": [
      "Enter a position for player B 7\n"
     ]
    },
    {
     "name": "stdout",
     "output_type": "stream",
     "text": [
      "Current board = \n",
      "|  |B |W |B |W |B |W |B |  |  \n"
     ]
    },
    {
     "name": "stdin",
     "output_type": "stream",
     "text": [
      "Enter a position for player W 8\n"
     ]
    },
    {
     "name": "stdout",
     "output_type": "stream",
     "text": [
      "Current board = \n",
      "|  |B |W |B |W |B |W |B |W |  \n"
     ]
    },
    {
     "name": "stdin",
     "output_type": "stream",
     "text": [
      "Enter a position for player B 9\n"
     ]
    },
    {
     "name": "stdout",
     "output_type": "stream",
     "text": [
      "Current board = \n",
      "|  |B |W |B |W |B |W |B |W |B \n"
     ]
    }
   ],
   "source": [
    "board = [\" \"]*10\n",
    "assert (len(board)==10)\n",
    "player = \"B\"\n",
    "print(\"Initial board = \")\n",
    "print_board(board)\n",
    "while (not win(board,\"B\")) and (not win(board,\"W\")) and (not tie(board)):\n",
    "    print(\"Current board = \")\n",
    "    print_board(board)\n",
    "    x = int(input(\"Enter a position for player \"+player))\n",
    "    if (x>=0) and (x<20):\n",
    "        \n",
    "        if (board[x] == \" \"):\n",
    "            board[x]=player\n",
    "            if (player == \"B\"):\n",
    "                player = \"W\"\n",
    "            else:\n",
    "                player=\"B\"\n",
    "        else:\n",
    "            print(\"That space is currently occupied\")\n",
    "    else:\n",
    "        print(\"Invalid location\")\n",
    "        \n",
    "print(\"FINAL board = \")\n",
    "print_board(board)\n",
    "if (win(board,\"W\")):\n",
    "    print(\"\\nPlayer W won!\")\n",
    "if (win(board,\"B\")):\n",
    "    print(\"\\nPlayer B won!\")\n",
    "if (tie(board)):\n",
    "    print(\"\\nIt was a tie!\")\n",
    " "
   ]
  },
  {
   "cell_type": "code",
   "execution_count": null,
   "id": "2a51c10f-b68d-4729-bdb2-d27f228faa98",
   "metadata": {},
   "outputs": [],
   "source": []
  }
 ],
 "metadata": {
  "kernelspec": {
   "display_name": "Python 3 (ipykernel)",
   "language": "python",
   "name": "python3"
  },
  "language_info": {
   "codemirror_mode": {
    "name": "ipython",
    "version": 3
   },
   "file_extension": ".py",
   "mimetype": "text/x-python",
   "name": "python",
   "nbconvert_exporter": "python",
   "pygments_lexer": "ipython3",
   "version": "3.9.5"
  }
 },
 "nbformat": 4,
 "nbformat_minor": 5
}
