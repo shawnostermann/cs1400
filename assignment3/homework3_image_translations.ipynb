{
 "cells": [
  {
   "cell_type": "markdown",
   "id": "5924c053-c32c-47ec-bb45-ed74fdd9dc00",
   "metadata": {},
   "source": [
    "CS1400 Images as Arrays Homework\n"
   ]
  },
  {
   "cell_type": "code",
   "execution_count": null,
   "id": "e9e55f22-2c5e-4791-9aaf-191b47ff4df5",
   "metadata": {},
   "outputs": [],
   "source": [
    "#all of the standard stuff that needs to be loaded for the stuff below to work\n",
    "from PIL import Image\n",
    "import numpy as np\n",
    "from IPython.display import clear_output"
   ]
  },
  {
   "cell_type": "code",
   "execution_count": null,
   "id": "7b749969-1b8f-4b58-bee8-dd5f81bbc7c4",
   "metadata": {},
   "outputs": [],
   "source": [
    "#\n",
    "# this is the simplest example, load a picture, tell me its properties, and paint it on the screen\n",
    "#\n",
    "shapes = Image.open('shapes.png')\n",
    "print(shapes.format, shapes.size, shapes.mode)\n",
    "\n",
    "shapes.show()\n"
   ]
  },
  {
   "cell_type": "code",
   "execution_count": null,
   "id": "48f66f32-204d-445f-9c68-00531f80d748",
   "metadata": {},
   "outputs": [],
   "source": [
    "#\n",
    "# this example shows how to get the actual pixels and manipulate them\n",
    "# in this case, turning them into grayscale\n",
    "#\n",
    "\n",
    "shapes = Image.open('fruit.png')\n",
    "width, height = shapes.size\n",
    "print(shapes.format, shapes.size, shapes.mode)\n",
    "image_as_array = shapes.load()\n",
    "\n",
    "print(\"Original Image:\")\n",
    "shapes.show()\n",
    "    \n",
    "for column in range(width):\n",
    "        for row in range(height):\n",
    "            # Get Pixel, which gives an array of 3 colors\n",
    "            pixel = image_as_array[column, row]\n",
    "\n",
    "            # Get R, G, B values (These are integers from 0 to 255)\n",
    "            red =   pixel[0]\n",
    "            green = pixel[1]\n",
    "            blue =  pixel[2]\n",
    "\n",
    "            # Transform to grayscale - simple method\n",
    "            gray = (red + green + blue) / 3 \n",
    "\n",
    "\n",
    "            # Set Pixel in new image\n",
    "            image_as_array[column, row] = (int(gray), int(gray), int(gray))\n",
    "\n",
    "print(\"Modified Image:\")\n",
    "shapes.show()\n"
   ]
  },
  {
   "cell_type": "code",
   "execution_count": null,
   "id": "35cb262b-b18c-45e1-9423-ab0c0db0750b",
   "metadata": {},
   "outputs": [],
   "source": [
    "#\n",
    "# Here's another technique that swaps the colors around in real time\n",
    "\n",
    "rotate = Image.open('shapes.png')\n",
    "image_as_array = rotate.load()\n",
    "\n",
    "print(rotate.format, rotate.size, rotate.mode)\n",
    "width, height = rotate.size\n",
    "\n",
    "    \n",
    "# rotate the colors each time through the loop    \n",
    "for looper in range(20):    \n",
    "    for column in range(width):\n",
    "        for row in range(height):\n",
    "            # Get Pixel, which gives an array of 3 colors\n",
    "            pixel = image_as_array[column, row]\n",
    "            \n",
    "            # Get R, G, B values (This are int from 0 to 255)\n",
    "            red =   pixel[0]\n",
    "            green = pixel[1]\n",
    "            blue =  pixel[2]\n",
    "\n",
    "            # Set Pixel in new image\n",
    "            image_as_array[column, row] = (green,blue,red)   # in the wrong order on purpose!\n",
    "    clear_output(wait=True)\n",
    "    rotate.show()\n"
   ]
  },
  {
   "cell_type": "code",
   "execution_count": null,
   "id": "c6420d97-88b4-493a-b891-260181e4eb83",
   "metadata": {},
   "outputs": [],
   "source": [
    "from IPython.display import clear_output\n",
    "\n",
    "rotate = Image.open('shapes.png')\n",
    "image_as_array = rotate.load()\n",
    "\n",
    "print(rotate.format, rotate.size, rotate.mode)\n",
    "width, height = rotate.size\n",
    "\n",
    "    \n",
    "# rotate the colors each time through the loop    \n",
    "for looper in range(20):    \n",
    "    for column in range(width):\n",
    "        for row in range(height):\n",
    "            # Get Pixel, which gives an array of 3 colors\n",
    "            pixel = image_as_array[column, row]\n",
    "            \n",
    "            # Get R, G, B values (This are int from 0 to 255)\n",
    "            red =   pixel[0]\n",
    "            green = pixel[1]\n",
    "            blue =  pixel[2]\n",
    "            \n",
    "            # change to make it less red\n",
    "            red = red - 10\n",
    "\n",
    "            # Set Pixel in new image\n",
    "            image_as_array[column, row] = (red,green,blue)\n",
    "    clear_output(wait=True)\n",
    "    rotate.show()\n"
   ]
  },
  {
   "cell_type": "code",
   "execution_count": null,
   "id": "3208ab31-d346-4336-a23a-bafaf49c1e9c",
   "metadata": {},
   "outputs": [],
   "source": [
    "#\n",
    "# This example \"pixelates\" the image\n",
    "# the algorithm is a little complicated, so look at it closely\n",
    "#\n",
    "unfocus = Image.open('fruit.png')\n",
    "width, height = unfocus.size\n",
    "print(unfocus.format, unfocus.size, unfocus.mode)\n",
    "image_as_array = unfocus.load()\n",
    "\n",
    "    \n",
    "step = 1\n",
    "for looper in range(20):\n",
    "    step = step + 2\n",
    "    unfocus = Image.open('fruit.png')\n",
    "    image_as_array = unfocus.load()\n",
    "    for column in range(0,width-step,step):\n",
    "        for row in range(0,height-step,step):\n",
    "            red = 0\n",
    "            green = 0\n",
    "            blue = 0\n",
    "            \n",
    "            # get the average value of all of the nearby pixels\n",
    "            for x in range(step):\n",
    "                for y in range(step):\n",
    "                    pixel = image_as_array[column+x,row+y]\n",
    "\n",
    "                    # Get R, G, B values (This are int from 0 to 255)\n",
    "                    red   += pixel[0]   # discuss this weird syntax!!\n",
    "                    green += pixel[1]\n",
    "                    blue  += pixel[2]\n",
    "            # we have the sum, now calculate the average\n",
    "            red   = red   / (step*step)\n",
    "            green = green / (step*step)\n",
    "            blue  = blue  / (step*step)\n",
    "\n",
    "            # make sure that they are all now integers!!!\n",
    "            red = int(red)\n",
    "            green = int(green)\n",
    "            blue = int(blue)\n",
    "\n",
    "\n",
    "            # Set Pixel in new image within the new \"square\"\n",
    "            for x in range(step):\n",
    "                for y in range(step):\n",
    "                    image_as_array[column+x, row+y] = (red, green, blue)\n",
    "\n",
    "    clear_output(wait=True)\n",
    "    unfocus.show()\n"
   ]
  },
  {
   "cell_type": "code",
   "execution_count": null,
   "id": "8d976c25-8197-4052-9b1e-15f169c8aecc",
   "metadata": {},
   "outputs": [],
   "source": []
  },
  {
   "cell_type": "code",
   "execution_count": null,
   "id": "ce55da58-7b8c-498e-b5bc-112ac2d02673",
   "metadata": {},
   "outputs": [],
   "source": [
    "#\n",
    "# Slide a picture off the top of the screen\n",
    "#\n",
    "slide = Image.open('fruit.png')\n",
    "width, height = slide.size\n",
    "# print(slide.format, slide.size, slide.mode)\n",
    "image_as_array = slide.load()\n",
    "\n",
    "slide.show()\n",
    "     \n",
    "for looper in range(100):\n",
    "    for row in range(height):\n",
    "        for column in range(width):\n",
    "            if row > 0:   # discuss why this is needed!!!\n",
    "                pixel = image_as_array[column,row]\n",
    "                image_as_array[column,row-1] = pixel\n",
    "\n",
    "    clear_output(wait=True)\n",
    "    slide.show()\n"
   ]
  },
  {
   "cell_type": "markdown",
   "id": "14fd0be0-1c30-4a8a-83ab-11336086c2c6",
   "metadata": {},
   "source": [
    "# Note, before proceeding, I recommend that you pull down the Edit menu and select \"Clear all Outputs\", which will erase all of the pictures above (you can always just run them again).  Otherwise the notebook gets quite large and might refuse to let you save it!!!!!"
   ]
  },
  {
   "cell_type": "markdown",
   "id": "b760510c-89b6-4784-99f3-6d15b9cca855",
   "metadata": {},
   "source": [
    "## Homework Question 1: \n",
    "Adapt the code in the previous \"slide off the top\" example to instead slide the picture off to the left side of the screen, so that the image appears to slide left instead of up"
   ]
  },
  {
   "cell_type": "code",
   "execution_count": null,
   "id": "0426c2e8-8d81-4300-ade9-1f5bdc447d6f",
   "metadata": {},
   "outputs": [],
   "source": []
  },
  {
   "cell_type": "markdown",
   "id": "c1f53694-993f-4863-8549-9129c8df29b2",
   "metadata": {},
   "source": [
    "## Homework Question 2: \n",
    "Adapt the code in the previous \"slide off the top\" example to instead slide the picture diagonally, both **LEFT** AND **UP** at the same time"
   ]
  },
  {
   "cell_type": "code",
   "execution_count": null,
   "id": "307bd7b8-8184-4b1e-a1f5-0feab97d8bf4",
   "metadata": {},
   "outputs": [],
   "source": []
  },
  {
   "cell_type": "markdown",
   "id": "ad40552a-035f-48bd-8895-c7d9c6733050",
   "metadata": {},
   "source": [
    "## Homework Question 3: \n",
    "This will take just a little more thought!  Adapt the code in the previous \"slide off the top\" example to instead slide the picture off to the **RIGHT** side of the screen, so that the image appears to slide **RIGHT** instead of up"
   ]
  },
  {
   "cell_type": "code",
   "execution_count": null,
   "id": "1e7a0b7d-3a42-4c61-91d6-31eca0c64b70",
   "metadata": {},
   "outputs": [],
   "source": []
  }
 ],
 "metadata": {
  "kernelspec": {
   "display_name": "Python 3 (ipykernel)",
   "language": "python",
   "name": "python3"
  },
  "language_info": {
   "codemirror_mode": {
    "name": "ipython",
    "version": 3
   },
   "file_extension": ".py",
   "mimetype": "text/x-python",
   "name": "python",
   "nbconvert_exporter": "python",
   "pygments_lexer": "ipython3",
   "version": "3.9.5"
  }
 },
 "nbformat": 4,
 "nbformat_minor": 5
}
