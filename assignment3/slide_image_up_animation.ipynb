{
 "cells": [
  {
   "cell_type": "markdown",
   "id": "5924c053-c32c-47ec-bb45-ed74fdd9dc00",
   "metadata": {},
   "source": [
    "Quick example of copying rows up (sliding off the top)\n"
   ]
  },
  {
   "cell_type": "code",
   "execution_count": 22,
   "id": "e9e55f22-2c5e-4791-9aaf-191b47ff4df5",
   "metadata": {},
   "outputs": [],
   "source": [
    "#all of the standard stuff that needs to be loaded for the stuff below to work\n",
    "from PIL import Image\n",
    "import numpy as np\n",
    "from IPython.display import clear_output\n",
    "import time"
   ]
  },
  {
   "cell_type": "code",
   "execution_count": null,
   "id": "7b749969-1b8f-4b58-bee8-dd5f81bbc7c4",
   "metadata": {},
   "outputs": [
    {
     "data": {
      "image/png": "[encoded data removed]",
      "text/plain": [
       "<PIL.Image.Image image mode=RGB size=500x500 at 0x7FA766AB81C0>"
      ]
     },
     "metadata": {},
     "output_type": "display_data"
    }
   ],
   "source": [
    "image = Image.new('RGB', (10, 10))\n",
    "width, height = image.size\n",
    "image_as_array = image.load()\n",
    "\n",
    "print(image.format, image.size, image.mode)\n",
    "\n",
    "# give the image stripes so we can see what's happening\n",
    "for row in range(height):\n",
    "    for column in range(width):\n",
    "        if (row % 3) == 0:    # if row divided by 3 has a remainder of 0\n",
    "            image_as_array[column, row] = (255,0,0)\n",
    "        elif (row % 3) == 1:  # if row divided by 3 has a remainder of 1\n",
    "            image_as_array[column, row] = (0,255,0)\n",
    "        else: # else, it must be 3\n",
    "            image_as_array[column, row] = (0,0,255)\n",
    "                    \n",
    "image.show()\n",
    "\n",
    "# now slide it up one row   \n",
    "for looper in range(10):\n",
    "    for row in range(height):\n",
    "        for column in range(width):\n",
    "            if row > 0:\n",
    "                image_as_array[column, row-1] = image_as_array[column, row]\n",
    "\n",
    "                # make the image big at each step and show what happened\n",
    "                big = image.resize((500,500), Image.BOX)       \n",
    "                clear_output(wait=True)\n",
    "                big.show()\n",
    "                time.sleep(0.2)  # so it's not too fast to see, sleep 1/10 second each copy...\n",
    "\n",
    "\n"
   ]
  },
  {
   "cell_type": "code",
   "execution_count": null,
   "id": "5f595d7e-9047-411e-8f3a-a5e8876f4783",
   "metadata": {},
   "outputs": [],
   "source": []
  },
  {
   "cell_type": "code",
   "execution_count": null,
   "id": "98a764d0-456b-43c7-9760-e598dde7aaa3",
   "metadata": {},
   "outputs": [],
   "source": []
  },
  {
   "cell_type": "code",
   "execution_count": null,
   "id": "7e10becc-6945-4ff1-9dda-2f001d305997",
   "metadata": {},
   "outputs": [],
   "source": []
  }
 ],
 "metadata": {
  "kernelspec": {
   "display_name": "Python 3 (ipykernel)",
   "language": "python",
   "name": "python3"
  },
  "language_info": {
   "codemirror_mode": {
    "name": "ipython",
    "version": 3
   },
   "file_extension": ".py",
   "mimetype": "text/x-python",
   "name": "python",
   "nbconvert_exporter": "python",
   "pygments_lexer": "ipython3",
   "version": "3.9.5"
  }
 },
 "nbformat": 4,
 "nbformat_minor": 5
}
