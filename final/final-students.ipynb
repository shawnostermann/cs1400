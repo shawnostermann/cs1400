{
 "cells": [
  {
   "cell_type": "markdown",
   "id": "f5cc10ee-9548-4c07-8c63-f33a4e62b194",
   "metadata": {},
   "source": [
    "# CS1400 Final Exam Coding Questions\n",
    "Use this workbook to see the final exam coding questions and to complete your answers to those questions.  When you are finished with each question, paste the resulting Python code into the corresponding BlackBoard question"
   ]
  },
  {
   "cell_type": "markdown",
   "id": "a20fb626-21fb-469c-8824-93a5d151a831",
   "metadata": {},
   "source": [
    "## Final Exam String Questions ----------------------------------------\n"
   ]
  },
  {
   "cell_type": "code",
   "execution_count": null,
   "id": "1187459e-27c3-4e5c-a61a-27578b975a4b",
   "metadata": {},
   "outputs": [],
   "source": [
    "# Final exam string question #1\n",
    "#\n",
    "# Complete the function BeginningThree() to PRINT the first 3 characters of the string passed as an argument \n",
    "# (or all characters if the string is shorter than 3 characters)\n",
    "# For example, BeginningThree(\"12345\") should print the string \"123\"\n",
    "\n",
    "\n",
    "def BeginningThree(param):\n",
    "    # insert your code below to complete the function\n",
    "\n",
    "          \n",
    "# this will test your function - you don't need to make any changes to this part\n",
    "BeginningThree(\"12345\")              # should print   123\n",
    "BeginningThree(\"123456789\")          # should print   123\n",
    "BeginningThree(\"Python Rules!!!\")    # should print   Pyt\n",
    "BeginningThree(\"!!\")                 # should print   !!\n",
    "          \n",
    "# when you have it working, paste all of the function\n",
    "# onto the corresponsing blackboard final exam question\n"
   ]
  },
  {
   "cell_type": "code",
   "execution_count": null,
   "id": "5fd963a9-da8d-4756-8788-9de4035ba652",
   "metadata": {},
   "outputs": [],
   "source": [
    "# Final exam string question #2\n",
    "#\n",
    "# Complete the function Middle() to PRINT the single middle character of the string passed as an argument \n",
    "# (you can assume that the string has at least 3 characters and that the length of the string is odd)\n",
    "# For example, Middle(\"123\") should print the string \"2\"\n",
    "\n",
    "def Middle(param):\n",
    "    # insert your code below to complete the function\n",
    "\n",
    "\n",
    "          \n",
    "# this will test your function - you don't need to make any changes to this part\n",
    "Middle(\"123\")            # should print   2\n",
    "Middle(\"123456789\")      # should print   5\n",
    "\n",
    "          \n",
    "# when you have it working, paste all of the function\n",
    "# onto the corresponsing blackboard final exam question\n"
   ]
  },
  {
   "cell_type": "code",
   "execution_count": null,
   "id": "47a740eb-94c4-460f-a019-f6a85e968e61",
   "metadata": {},
   "outputs": [],
   "source": [
    "# Final exam string question #3\n",
    "#\n",
    "# Complete the function MiddleThree() to PRINT the middle THREE characters of the string passed as an argument \n",
    "# (you can assume that the string has at least 7 characters and that the length of the string is odd)\n",
    "# For example, Middle(\"123456789\") should print the string \"456\"\n",
    "\n",
    "def MiddleThree(param):\n",
    "    # insert your code below to complete the function\n",
    "\n",
    "\n",
    "          \n",
    "# this will test your function - you don't need to make any changes to this part\n",
    "MiddleThree(\"123456789\")            # should print    456\n",
    "MiddleThree(\"Say Yes now\")          # should print    Yes\n",
    "\n",
    "\n",
    "          \n",
    "# when you have it working, paste all of the function\n",
    "# onto the corresponsing blackboard final exam question\n"
   ]
  },
  {
   "cell_type": "markdown",
   "id": "4ef2ed6d-155e-474c-94cc-60f96fe97474",
   "metadata": {},
   "source": [
    "## Final Exam Looping Questions ----------------------------------------\n"
   ]
  },
  {
   "cell_type": "code",
   "execution_count": null,
   "id": "6ff9c07a-1678-4729-b8cc-4f02903f3a3b",
   "metadata": {},
   "outputs": [],
   "source": [
    "# Final exam looping question #1\n",
    "\n",
    "# complete the function LongList(somestring) so that it will print all of the characters in a string in detail\n",
    "# For example, when called as  LongList(\"test\")\n",
    "# it will print exactly:\n",
    "# character 0 is t\n",
    "# character 1 is e\n",
    "# character 2 is s\n",
    "# character 3 is t\n",
    "\n",
    "def LongList(somestring):\n",
    "    # insert your code below to complete the function\n",
    "\n",
    "    \n",
    "\n",
    "\n",
    "LongList(\"test\")\n",
    "\n",
    "# when you have it working, paste all of the function\n",
    "# onto the corresponsing blackboard final exam question\n",
    "    "
   ]
  },
  {
   "cell_type": "code",
   "execution_count": null,
   "id": "7a6a3dc9-ef14-46b6-bcbe-9bc27635ae0b",
   "metadata": {},
   "outputs": [],
   "source": [
    "# Final exam looping question #2\n",
    "\n",
    "\n",
    "# complete the function ThreeOutOfFive(pentastring, match) \n",
    "# 1) if SHOULD FIRST VERIFY that the string pentastring contains exactly 5 characters and if not, it should return None\n",
    "# 2) it should return True if at least 3 of the characters in the string are equal to the character in string \"match\"\n",
    "#    and False otherwise\n",
    "# You must use a for-loop to solve this question!\n",
    "\n",
    "\n",
    "\n",
    "def ThreeOutOfFive(pentastring, match):\n",
    "    # insert your code below to complete the function\n",
    "\n",
    "\n",
    "    \n",
    "\n",
    "print(ThreeOutOfFive(\"11122\",\"1\"))         # should print True\n",
    "print(ThreeOutOfFive(\"11122\",\"2\"))         # should print False\n",
    "print(ThreeOutOfFive(\"33333\",\"3\"))         # should print True\n",
    "print(ThreeOutOfFive(\"12345\",\"1\"))         # should print False\n",
    "print(ThreeOutOfFive(\"X\",\"1\"))             # should print NONE\n",
    "\n",
    "# when you have it working, paste all of the function\n",
    "# onto the corresponsing blackboard final exam question\n",
    "    "
   ]
  },
  {
   "cell_type": "code",
   "execution_count": null,
   "id": "93c24529-a123-4e91-b4e3-f06ebadbc528",
   "metadata": {},
   "outputs": [],
   "source": [
    "# Final exam looping question #3\n",
    "\n",
    "# complete the function HiddenClass(strclass) that will search a string passed as its argument for the digits 1400.  \n",
    "# It should return True if there is exactly one \"1\", exactly 1 \"4\", and exactly 2 \"2\"s\n",
    "# Those characters can occur in any order and the string can also contain OTHER characters that you can ignore\n",
    "# For example, when called as  HiddenClass(\"1400\") it will return TRUE\n",
    "# and when called as HiddenClass(\"-0-0-4-1-\") it will also return TRUE\n",
    "# You must use a for-loop to solve this question!\n",
    "\n",
    "\n",
    "def HiddenClass(strclass):\n",
    "    # you might find these handy, but you don't NEED to use them...\n",
    "    ones = 0\n",
    "    fours = 0\n",
    "    zeros = 0\n",
    "    # insert your code below to complete the function\n",
    "\n",
    "\n",
    "\n",
    "    \n",
    "\n",
    "print(HiddenClass(\"1400\"))         # should print True\n",
    "print(HiddenClass(\"0041\"))         # should print True\n",
    "print(HiddenClass(\"-0-0-4-1-\"))    # should print True\n",
    "print(HiddenClass(\"22140099\"))     # should print True\n",
    "print(HiddenClass(\"11440000\"))     # should print False\n",
    "print(HiddenClass(\"ABCDEF\"))       # should print False\n",
    "print(HiddenClass(\"31415927536\"))  # should print False\n",
    "\n",
    "# when you have it working, paste all of the function\n",
    "# onto the corresponsing blackboard final exam question\n",
    "    "
   ]
  },
  {
   "cell_type": "markdown",
   "id": "6c7f7940-9ef6-474d-b163-9780def8969a",
   "metadata": {},
   "source": [
    "## Final Exam Recursion Questions ----------------------------------------\n"
   ]
  },
  {
   "cell_type": "code",
   "execution_count": null,
   "id": "22681220-c779-4172-8dc7-565e9ec88f83",
   "metadata": {},
   "outputs": [],
   "source": [
    "# Final exam recursion question #1\n",
    "\n",
    "# complete the recursive function below called DumbMult(x,y)\n",
    "# DumbMult should assume that it is called with two integers, both of which are >= 1\n",
    "# DumbMult isn't very smart, and the only multiplication fact that it understands is how to multiply by 1\n",
    "# When called with two numbers, neither of which is a 1, it should reduce the first number by one and \n",
    "# call itself recursively to try to solve the equation\n",
    "# In all cases, it should RETURN an integer that is exactly (x*y)\n",
    "# ... and it must NOT calculate that by using multiplication (and also NOT by using addition in a loop!!!)!\n",
    "# ... and it must be recursive!\n",
    "# Hint: 2*4 is the same as 4+(1*4)             \n",
    "#       and 3*10 is the same as 10+(2*10) which is the same as 10+(10+(1*10))\n",
    "\n",
    "def DumbMult(x,y):\n",
    "    # insert your code below to complete the function\n",
    "\n",
    "\n",
    "    \n",
    "\n",
    "print(DumbMult(1,5))      # should print 5\n",
    "print(DumbMult(5,1))      # should print 5\n",
    "print(DumbMult(2,5))      # should print 10\n",
    "print(DumbMult(4,3))      # should print 12\n",
    "print(DumbMult(10,20))    # should print 200\n",
    "    \n",
    "# when you have it working, paste all of the function\n",
    "# onto the corresponsing blackboard final exam question\n",
    "    "
   ]
  }
 ],
 "metadata": {
  "kernelspec": {
   "display_name": "Python 3 (ipykernel)",
   "language": "python",
   "name": "python3"
  },
  "language_info": {
   "codemirror_mode": {
    "name": "ipython",
    "version": 3
   },
   "file_extension": ".py",
   "mimetype": "text/x-python",
   "name": "python",
   "nbconvert_exporter": "python",
   "pygments_lexer": "ipython3",
   "version": "3.9.5"
  }
 },
 "nbformat": 4,
 "nbformat_minor": 5
}
